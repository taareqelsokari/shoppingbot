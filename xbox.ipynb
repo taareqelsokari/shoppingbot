{
 "cells": [
  {
   "cell_type": "code",
   "execution_count": null,
   "metadata": {},
   "outputs": [],
   "source": [
    "import requests\n",
    "from bs4 import BeautifulSoup\n",
    "\n",
    "headers = { 'User-Agent': 'ozilla/5.0 (X11; Linux x86_64; rv:60.0) Gecko/20100101 Firefox/81.0' } \n",
    "\n",
    "URL_AMAZON = 'https://smile.amazon.co.uk/Xbox-RRT-00007-Series-X/dp/B08H93GKNJ/ref=sr_1_2?dchild=1&keywords=Xbox+Series+X&qid=1621186499&sr=8-2'\n",
    "\n",
    "#series S - used for testing\n",
    "#URL_AMAZON = \"https://smile.amazon.co.uk/Xbox-RRS-00007-Series-S/dp/B08GD9MNZB/ref=pd_vtp_1?pd_rd_w=8tY19&pf_rd_p=75613b4d-6e08-4583-9b7e-f6e766dc0b40&pf_rd_r=ZHWXQJAMNW9A1FJFQYYD&pd_rd_r=e8592ae2-5afd-41b6-a334-72e56d1f99f6&pd_rd_wg=f1D7H&pd_rd_i=B08GD9MNZB&psc=1\"\n",
    "  \n",
    "webpage = requests.get(URL_AMAZON, headers=headers)\n",
    "\n",
    "#soup = BeautifulSoup(webpage.content, \"html.parser\")\n",
    "\n",
    "soup = BeautifulSoup(webpage.content, 'lxml')\n",
    "\n",
    "out_of_stock = \"outOfStock\"\n",
    "in_stock = \"add-to-cart-button\"\n",
    "\n",
    "resultsAmazon_in_stock = soup.find(id=in_stock)\n",
    "resultsAmazon_out_of_stock = soup.find(id=f\"{out_of_stock}\")\n",
    "result_test = soup.find(text=\"Xbox\")\n",
    "\n",
    "available = \"No\"\n",
    "\n",
    "if resultsAmazon_in_stock != None:\n",
    "    resultsAmazon_availability = soup.find(id=\"availability\")\n",
    "    available = resultsAmazon_availability.find(\"span\").string.strip().replace(',', '')\n",
    "elif resultsAmazon_out_of_stock != None:\n",
    "    available = \"Out of Stock\"\n",
    "\n",
    "print(\"********* AMAZON **************\")\n",
    "print(f\"In Stock? {available}\")\n",
    "#print(f\"resultsAmazon_in_stock = {resultsAmazon_in_stock}\")\n",
    "#print(f\"resultsAmazon_out_of_stock = {resultsAmazon_out_of_stock}\")\n",
    "\n",
    "\n",
    "\n",
    "print(\"********* ARGOS **************\")\n",
    "URL_Argos = 'https://www.argos.co.uk/product/8448262'\n",
    "#series S - used for testing\n",
    "#URL_Argos = \"https://www.argos.co.uk/product/8448248\"\n",
    "argos_webpage = requests.get(URL_Argos, headers=headers)\n",
    "\n",
    "argos_soup = BeautifulSoup(argos_webpage.content, 'lxml')\n",
    "\n",
    "argos_availability = argos_soup.find(id=\"availability\")\n",
    "#x = argos_availability.find(\"span\").string.strip().replace(',', '')\n",
    "print(f\"argos_availability: {argos_availability}\")\n",
    "#print(f\"Test: {argos_soup}\")\n"
   ]
  }
 ],
 "metadata": {
  "kernelspec": {
   "display_name": "Python 3",
   "language": "python",
   "name": "python3"
  },
  "language_info": {
   "codemirror_mode": {
    "name": "ipython",
    "version": 3
   },
   "file_extension": ".py",
   "mimetype": "text/x-python",
   "name": "python",
   "nbconvert_exporter": "python",
   "pygments_lexer": "ipython3",
   "version": "3.8.1"
  }
 },
 "nbformat": 4,
 "nbformat_minor": 4
}
