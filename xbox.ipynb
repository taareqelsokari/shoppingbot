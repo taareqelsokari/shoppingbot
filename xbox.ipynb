import requests
from bs4 import BeautifulSoup

headers = { 'User-Agent': 'ozilla/5.0 (X11; Linux x86_64; rv:60.0) Gecko/20100101 Firefox/81.0' } 

URL_AMAZON = 'https://smile.amazon.co.uk/Xbox-RRT-00007-Series-X/dp/B08H93GKNJ/ref=sr_1_2?dchild=1&keywords=Xbox+Series+X&qid=1621186499&sr=8-2'

#series S - used for testing
#URL_AMAZON = "https://smile.amazon.co.uk/Xbox-RRS-00007-Series-S/dp/B08GD9MNZB/ref=pd_vtp_1?pd_rd_w=8tY19&pf_rd_p=75613b4d-6e08-4583-9b7e-f6e766dc0b40&pf_rd_r=ZHWXQJAMNW9A1FJFQYYD&pd_rd_r=e8592ae2-5afd-41b6-a334-72e56d1f99f6&pd_rd_wg=f1D7H&pd_rd_i=B08GD9MNZB&psc=1"
  
webpage = requests.get(URL_AMAZON, headers=headers)

#soup = BeautifulSoup(webpage.content, "html.parser")

soup = BeautifulSoup(webpage.content, 'lxml')

out_of_stock = "outOfStock"
in_stock = "add-to-cart-button"

resultsAmazon_in_stock = soup.find(id=in_stock)
resultsAmazon_out_of_stock = soup.find(id=f"{out_of_stock}")
result_test = soup.find(text="Xbox")

available = "No"

if resultsAmazon_in_stock != None:
    resultsAmazon_availability = soup.find(id="availability")
    available = resultsAmazon_availability.find("span").string.strip().replace(',', '')
elif resultsAmazon_out_of_stock != None:
    available = "Out of Stock"

print("********* AMAZON **************")
print(f"In Stock? {available}")
#print(f"resultsAmazon_in_stock = {resultsAmazon_in_stock}")
#print(f"resultsAmazon_out_of_stock = {resultsAmazon_out_of_stock}")



print("********* ARGOS **************")
URL_Argos = 'https://www.argos.co.uk/product/8448262'
#series S - used for testing
#URL_Argos = "https://www.argos.co.uk/product/8448248"
argos_webpage = requests.get(URL_Argos, headers=headers)

argos_soup = BeautifulSoup(argos_webpage.content, 'lxml')

argos_availability = argos_soup.find(id="availability")
#x = argos_availability.find("span").string.strip().replace(',', '')
print(f"argos_availability: {argos_availability}")
#print(f"Test: {argos_soup}")
